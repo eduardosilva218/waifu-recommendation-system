{
  "nbformat": 4,
  "nbformat_minor": 0,
  "metadata": {
    "colab": {
      "name": "waifu-recommendation-system",
      "provenance": [],
      "collapsed_sections": [],
      "authorship_tag": "ABX9TyPps8BzdbWIC8jV4aniRoyL",
      "include_colab_link": true
    },
    "kernelspec": {
      "name": "python3",
      "display_name": "Python 3"
    },
    "language_info": {
      "name": "python"
    }
  },
  "cells": [
    {
      "cell_type": "markdown",
      "metadata": {
        "id": "view-in-github",
        "colab_type": "text"
      },
      "source": [
        "<a href=\"https://colab.research.google.com/github/eduardosilva218/waifu-recommendation-system/blob/main/waifu_recommendation_system.ipynb\" target=\"_parent\"><img src=\"https://colab.research.google.com/assets/colab-badge.svg\" alt=\"Open In Colab\"/></a>"
      ]
    },
    {
      "cell_type": "code",
      "source": [
        "import pandas as pd\n",
        "\n",
        "waifus=pd.read_csv('pokewaifuset.csv')\n",
        "waifus=waifus.pivot_table(columns=\"user\", index=\"waifu_pokemon\", values=\"rating\")\n",
        "waifus.fillna(0, inplace=True)\n",
        "waifus"
      ],
      "metadata": {
        "id": "Sj0DrC7YCinr",
        "colab": {
          "base_uri": "https://localhost:8080/",
          "height": 394
        },
        "outputId": "e6d937a1-a045-4073-ba39-5e5e07dc727d"
      },
      "execution_count": 19,
      "outputs": [
        {
          "output_type": "execute_result",
          "data": {
            "text/plain": [
              "user              usuario_1  usuario_2  usuario_3\n",
              "waifu_pokemon                                    \n",
              "bulbassaur_waifu          6         10          3\n",
              "eevee_waifu               4         10          3\n",
              "flareon_waifu             4         10          1\n",
              "gardevoir_waifu           8          3          8\n",
              "pikachu_waifu             5          3          9\n",
              "psyduck_waifu             3          2          8\n",
              "roserade_waifu           10          4          8\n",
              "slowpoke_waifu            4          9          2\n",
              "squirtle_waifu            4          5          7\n",
              "victribel_waifu           8          5          4"
            ],
            "text/html": [
              "\n",
              "  <div id=\"df-297456ef-0e78-488e-852e-af122b463cf2\">\n",
              "    <div class=\"colab-df-container\">\n",
              "      <div>\n",
              "<style scoped>\n",
              "    .dataframe tbody tr th:only-of-type {\n",
              "        vertical-align: middle;\n",
              "    }\n",
              "\n",
              "    .dataframe tbody tr th {\n",
              "        vertical-align: top;\n",
              "    }\n",
              "\n",
              "    .dataframe thead th {\n",
              "        text-align: right;\n",
              "    }\n",
              "</style>\n",
              "<table border=\"1\" class=\"dataframe\">\n",
              "  <thead>\n",
              "    <tr style=\"text-align: right;\">\n",
              "      <th>user</th>\n",
              "      <th>usuario_1</th>\n",
              "      <th>usuario_2</th>\n",
              "      <th>usuario_3</th>\n",
              "    </tr>\n",
              "    <tr>\n",
              "      <th>waifu_pokemon</th>\n",
              "      <th></th>\n",
              "      <th></th>\n",
              "      <th></th>\n",
              "    </tr>\n",
              "  </thead>\n",
              "  <tbody>\n",
              "    <tr>\n",
              "      <th>bulbassaur_waifu</th>\n",
              "      <td>6</td>\n",
              "      <td>10</td>\n",
              "      <td>3</td>\n",
              "    </tr>\n",
              "    <tr>\n",
              "      <th>eevee_waifu</th>\n",
              "      <td>4</td>\n",
              "      <td>10</td>\n",
              "      <td>3</td>\n",
              "    </tr>\n",
              "    <tr>\n",
              "      <th>flareon_waifu</th>\n",
              "      <td>4</td>\n",
              "      <td>10</td>\n",
              "      <td>1</td>\n",
              "    </tr>\n",
              "    <tr>\n",
              "      <th>gardevoir_waifu</th>\n",
              "      <td>8</td>\n",
              "      <td>3</td>\n",
              "      <td>8</td>\n",
              "    </tr>\n",
              "    <tr>\n",
              "      <th>pikachu_waifu</th>\n",
              "      <td>5</td>\n",
              "      <td>3</td>\n",
              "      <td>9</td>\n",
              "    </tr>\n",
              "    <tr>\n",
              "      <th>psyduck_waifu</th>\n",
              "      <td>3</td>\n",
              "      <td>2</td>\n",
              "      <td>8</td>\n",
              "    </tr>\n",
              "    <tr>\n",
              "      <th>roserade_waifu</th>\n",
              "      <td>10</td>\n",
              "      <td>4</td>\n",
              "      <td>8</td>\n",
              "    </tr>\n",
              "    <tr>\n",
              "      <th>slowpoke_waifu</th>\n",
              "      <td>4</td>\n",
              "      <td>9</td>\n",
              "      <td>2</td>\n",
              "    </tr>\n",
              "    <tr>\n",
              "      <th>squirtle_waifu</th>\n",
              "      <td>4</td>\n",
              "      <td>5</td>\n",
              "      <td>7</td>\n",
              "    </tr>\n",
              "    <tr>\n",
              "      <th>victribel_waifu</th>\n",
              "      <td>8</td>\n",
              "      <td>5</td>\n",
              "      <td>4</td>\n",
              "    </tr>\n",
              "  </tbody>\n",
              "</table>\n",
              "</div>\n",
              "      <button class=\"colab-df-convert\" onclick=\"convertToInteractive('df-297456ef-0e78-488e-852e-af122b463cf2')\"\n",
              "              title=\"Convert this dataframe to an interactive table.\"\n",
              "              style=\"display:none;\">\n",
              "        \n",
              "  <svg xmlns=\"http://www.w3.org/2000/svg\" height=\"24px\"viewBox=\"0 0 24 24\"\n",
              "       width=\"24px\">\n",
              "    <path d=\"M0 0h24v24H0V0z\" fill=\"none\"/>\n",
              "    <path d=\"M18.56 5.44l.94 2.06.94-2.06 2.06-.94-2.06-.94-.94-2.06-.94 2.06-2.06.94zm-11 1L8.5 8.5l.94-2.06 2.06-.94-2.06-.94L8.5 2.5l-.94 2.06-2.06.94zm10 10l.94 2.06.94-2.06 2.06-.94-2.06-.94-.94-2.06-.94 2.06-2.06.94z\"/><path d=\"M17.41 7.96l-1.37-1.37c-.4-.4-.92-.59-1.43-.59-.52 0-1.04.2-1.43.59L10.3 9.45l-7.72 7.72c-.78.78-.78 2.05 0 2.83L4 21.41c.39.39.9.59 1.41.59.51 0 1.02-.2 1.41-.59l7.78-7.78 2.81-2.81c.8-.78.8-2.07 0-2.86zM5.41 20L4 18.59l7.72-7.72 1.47 1.35L5.41 20z\"/>\n",
              "  </svg>\n",
              "      </button>\n",
              "      \n",
              "  <style>\n",
              "    .colab-df-container {\n",
              "      display:flex;\n",
              "      flex-wrap:wrap;\n",
              "      gap: 12px;\n",
              "    }\n",
              "\n",
              "    .colab-df-convert {\n",
              "      background-color: #E8F0FE;\n",
              "      border: none;\n",
              "      border-radius: 50%;\n",
              "      cursor: pointer;\n",
              "      display: none;\n",
              "      fill: #1967D2;\n",
              "      height: 32px;\n",
              "      padding: 0 0 0 0;\n",
              "      width: 32px;\n",
              "    }\n",
              "\n",
              "    .colab-df-convert:hover {\n",
              "      background-color: #E2EBFA;\n",
              "      box-shadow: 0px 1px 2px rgba(60, 64, 67, 0.3), 0px 1px 3px 1px rgba(60, 64, 67, 0.15);\n",
              "      fill: #174EA6;\n",
              "    }\n",
              "\n",
              "    [theme=dark] .colab-df-convert {\n",
              "      background-color: #3B4455;\n",
              "      fill: #D2E3FC;\n",
              "    }\n",
              "\n",
              "    [theme=dark] .colab-df-convert:hover {\n",
              "      background-color: #434B5C;\n",
              "      box-shadow: 0px 1px 3px 1px rgba(0, 0, 0, 0.15);\n",
              "      filter: drop-shadow(0px 1px 2px rgba(0, 0, 0, 0.3));\n",
              "      fill: #FFFFFF;\n",
              "    }\n",
              "  </style>\n",
              "\n",
              "      <script>\n",
              "        const buttonEl =\n",
              "          document.querySelector('#df-297456ef-0e78-488e-852e-af122b463cf2 button.colab-df-convert');\n",
              "        buttonEl.style.display =\n",
              "          google.colab.kernel.accessAllowed ? 'block' : 'none';\n",
              "\n",
              "        async function convertToInteractive(key) {\n",
              "          const element = document.querySelector('#df-297456ef-0e78-488e-852e-af122b463cf2');\n",
              "          const dataTable =\n",
              "            await google.colab.kernel.invokeFunction('convertToInteractive',\n",
              "                                                     [key], {});\n",
              "          if (!dataTable) return;\n",
              "\n",
              "          const docLinkHtml = 'Like what you see? Visit the ' +\n",
              "            '<a target=\"_blank\" href=https://colab.research.google.com/notebooks/data_table.ipynb>data table notebook</a>'\n",
              "            + ' to learn more about interactive tables.';\n",
              "          element.innerHTML = '';\n",
              "          dataTable['output_type'] = 'display_data';\n",
              "          await google.colab.output.renderOutput(dataTable, element);\n",
              "          const docLink = document.createElement('div');\n",
              "          docLink.innerHTML = docLinkHtml;\n",
              "          element.appendChild(docLink);\n",
              "        }\n",
              "      </script>\n",
              "    </div>\n",
              "  </div>\n",
              "  "
            ]
          },
          "metadata": {},
          "execution_count": 19
        }
      ]
    },
    {
      "cell_type": "markdown",
      "source": [
        "### with library"
      ],
      "metadata": {
        "id": "Eq-BJXWG_9x9"
      }
    },
    {
      "cell_type": "code",
      "execution_count": 30,
      "metadata": {
        "id": "2UBvim2Gt7sY"
      },
      "outputs": [],
      "source": [
        "from sklearn.neighbors import NearestNeighbors\n",
        "\n",
        "model_of_library = NearestNeighbors()\n",
        "model_of_library.fit(waifus.values)\n",
        "\n",
        "def predict_from_model_of_library(waifu_choosed, number_of_predicts = 3):\n",
        "  def search_index_of_waifu(waifu_name_choosed):\n",
        "    for index, waifu_name in enumerate(waifus.index):\n",
        "      if waifu_name == waifu_name_choosed:\n",
        "        return index\n",
        "    raise Exception('No waifu detected.')\n",
        "\n",
        "  index_waifu_choosed = search_index_of_waifu(waifu_choosed)\n",
        "  waifu_value = waifus.iloc[index_waifu_choosed,:].values.reshape(1, -1)\n",
        "  suggestions = model_of_library.kneighbors(waifu_value, number_of_predicts+1, return_distance=False)\n",
        "  suggestions_to_return = []\n",
        "  for suggestion in suggestions[0]:\n",
        "    if index_waifu_choosed == suggestion:\n",
        "      continue\n",
        "    suggestions_to_return.append(waifus.index[suggestion])\n",
        "  \n",
        "  return suggestions_to_return"
      ]
    },
    {
      "cell_type": "code",
      "source": [
        "predict_from_model_of_library('gardevoir_waifu')"
      ],
      "metadata": {
        "colab": {
          "base_uri": "https://localhost:8080/"
        },
        "id": "fbf2kppeBh4Y",
        "outputId": "fcd195b2-9bc0-40f0-8039-939c30d9086b"
      },
      "execution_count": 24,
      "outputs": [
        {
          "output_type": "execute_result",
          "data": {
            "text/plain": [
              "['roserade_waifu', 'pikachu_waifu', 'victribel_waifu']"
            ]
          },
          "metadata": {},
          "execution_count": 24
        }
      ]
    },
    {
      "cell_type": "markdown",
      "source": [
        "### no library"
      ],
      "metadata": {
        "id": "2x4joBZFArVb"
      }
    },
    {
      "cell_type": "code",
      "source": [
        "import math\n",
        "\n",
        "def get_euclidian_distance(vector_one, vector_two):\n",
        "  result = 0\n",
        "  for index in range(len(vector_one)):\n",
        "    result += math.pow(vector_one[index]-vector_two[index], 2)\n",
        "  return math.sqrt(result)\n",
        "\n",
        "def get_manhattan_distance(vector_one , vector_two):\n",
        "  result = 0\n",
        "  for index in range(len(vector_one)):\n",
        "    result += abs(vector_one[index]-vector_two[index])\n",
        "  return result\n",
        "\n",
        "def get_supremum_distance(vector_one, vector_two):\n",
        "  values = []\n",
        "  for index in range(len(vector_one)):\n",
        "    values.append(abs(vector_one[index]-vector_two[index]))\n",
        "  return max(values)\n",
        "\n",
        "def get_minkowski_distance(vector_one, vector_two, p : float = 2):\n",
        "  metrics = {'1': get_manhattan_distance,\n",
        "               '2': get_euclidian_distance, \n",
        "               'inf': get_supremum_distance}\n",
        "  for key in metrics:\n",
        "    p = str(p)\n",
        "    if key == p:\n",
        "      return metrics[p](vector_one, vector_two)\n",
        "  return None\n",
        "\n",
        "class MyKNearestNeighbors():\n",
        "  def fit(self, X):\n",
        "    self.X = X\n",
        " \n",
        "  def get_knearest_neighbors(self, X, number_of_predicts : int = 3):\n",
        "    distances_and_values = []\n",
        "    for index, vector in enumerate(self.X):\n",
        "      for value in X:\n",
        "        distance = get_minkowski_distance(vector, value)\n",
        "        distances_and_values.append({'distance' : distance, \n",
        "                          'value' : vector, 'index' : index})\n",
        "    result = sorted(distances_and_values, key=lambda d: d['distance'])\n",
        "    return result[:number_of_predicts]\n",
        "\n",
        "my_model = MyKNearestNeighbors()\n",
        "my_model.fit(waifus.values)\n",
        "\n",
        "def predict_from_my_library(waifu_choosed, number_of_predicts = 3):\n",
        "  def search_index_of_waifu(waifu_name_choosed):\n",
        "    for index, waifu_name in enumerate(waifus.index):\n",
        "      if waifu_name == waifu_name_choosed:\n",
        "        return index\n",
        "    raise Exception('No waifu detected.')\n",
        "\n",
        "  index_waifu_choosed = search_index_of_waifu(waifu_choosed)\n",
        "  waifu_value = waifus.iloc[index_waifu_choosed,:].values.reshape(1, -1)\n",
        "  suggestions = my_model.get_knearest_neighbors(waifu_value, number_of_predicts+1)\n",
        "  suggestions_to_return = []\n",
        "  for suggestion in suggestions:\n",
        "    if index_waifu_choosed == suggestion['index']:\n",
        "      continue\n",
        "    waifu_to_return = waifus.index[suggestion['index']]\n",
        "    suggestions_to_return.append(waifu_to_return)\n",
        "  \n",
        "  return suggestions_to_return"
      ],
      "metadata": {
        "id": "pYPUAZXLAvzi"
      },
      "execution_count": 43,
      "outputs": []
    },
    {
      "cell_type": "code",
      "source": [
        "  predict_from_my_library('gardevoir_waifu')"
      ],
      "metadata": {
        "colab": {
          "base_uri": "https://localhost:8080/"
        },
        "id": "-F5RVp1aBNEH",
        "outputId": "6fe32e07-7e2b-4409-f77c-4312cbc0bbfb"
      },
      "execution_count": 28,
      "outputs": [
        {
          "output_type": "execute_result",
          "data": {
            "text/plain": [
              "['roserade_waifu', 'pikachu_waifu', 'victribel_waifu']"
            ]
          },
          "metadata": {},
          "execution_count": 28
        }
      ]
    },
    {
      "cell_type": "markdown",
      "source": [
        "### Comparasion"
      ],
      "metadata": {
        "id": "2ehOMKSaFNa-"
      }
    },
    {
      "cell_type": "code",
      "source": [
        "print('meu resultado:\\n')\n",
        "for suggestion in my_model.get_knearest_neighbors([[4,10,3]], 3):\n",
        "  print(suggestion)\n",
        "\n",
        "print('\\nresultado da lib:\\n')\n",
        "print(model_of_library.kneighbors([[4,10,3]], 3))"
      ],
      "metadata": {
        "id": "AWUTGG7fC3BV",
        "outputId": "7aa30a6e-cb14-4c86-b16f-b1b9248e4baf",
        "colab": {
          "base_uri": "https://localhost:8080/"
        }
      },
      "execution_count": 42,
      "outputs": [
        {
          "output_type": "stream",
          "name": "stdout",
          "text": [
            "meu resultado:\n",
            "\n",
            "{'distance': 0.0, 'value': array([ 4, 10,  3]), 'index': 1}\n",
            "{'distance': 1.4142135623730951, 'value': array([4, 9, 2]), 'index': 7}\n",
            "{'distance': 2.0, 'value': array([ 6, 10,  3]), 'index': 0}\n",
            "\n",
            "resultado da lib:\n",
            "\n",
            "(array([[0.        , 1.41421356, 2.        ]]), array([[1, 7, 2]]))\n"
          ]
        }
      ]
    }
  ]
}